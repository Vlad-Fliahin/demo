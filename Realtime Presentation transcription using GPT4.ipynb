{
 "cells": [
  {
   "cell_type": "code",
   "execution_count": 36,
   "id": "ab416154-5387-44cc-b1af-1b96bedb3f6a",
   "metadata": {},
   "outputs": [],
   "source": [
    "import base64\n",
    "\n",
    "import requests\n",
    "import numpy as np\n",
    "from openai import OpenAI"
   ]
  },
  {
   "cell_type": "code",
   "execution_count": 1,
   "id": "372f8aa8-20e0-4db4-bcc8-f01d1e6209cb",
   "metadata": {},
   "outputs": [],
   "source": [
    "api_key = 'your api key'"
   ]
  },
  {
   "cell_type": "code",
   "execution_count": 38,
   "id": "0d12d9d8-2842-4939-a7ac-8d4350d2f20a",
   "metadata": {},
   "outputs": [],
   "source": [
    "client = OpenAI(api_key=api_key)"
   ]
  },
  {
   "cell_type": "code",
   "execution_count": 39,
   "id": "0ca3c9f0-dfad-4407-b2dd-c52744ac9dc6",
   "metadata": {},
   "outputs": [],
   "source": [
    "# Function to encode the image\n",
    "def encode_image(image_path):\n",
    "    with open(image_path, \"rb\") as image_file:\n",
    "        return base64.b64encode(image_file.read()).decode('utf-8')"
   ]
  },
  {
   "cell_type": "code",
   "execution_count": 40,
   "id": "32901697-9e53-49fa-b07d-c05f844961b4",
   "metadata": {},
   "outputs": [],
   "source": [
    "model = 'gpt-4-turbo'\n",
    "system_prompt = 'You are a helpful assistant. Separate the slide title if it exists. Group all the text blocks from the presentation slide into the subsequent text blocks. The order of the blocks should be preserved like a human have read this presentation.'"
   ]
  },
  {
   "cell_type": "code",
   "execution_count": 49,
   "id": "b66ca64c-ba25-4cbe-9860-34dcac46ac01",
   "metadata": {},
   "outputs": [],
   "source": [
    "image_path = './data/presentation transcription/3.png'\n",
    "base64_image = encode_image(image_path)"
   ]
  },
  {
   "cell_type": "code",
   "execution_count": 50,
   "id": "c7a6cff0-9d72-4fd7-8611-1763fc0c72fb",
   "metadata": {},
   "outputs": [
    {
     "name": "stdout",
     "output_type": "stream",
     "text": [
      "### Slide Title: VALUES\n",
      "\n",
      "#### Mission\n",
      "- **Innovation Excellence:** Pursue excellence in innovation by fostering a culture of creativity, curiosity, and continuous learning to stay at the forefront of technological advancement.\n",
      "- **Integrity and Accountability:** Uphold the highest standards of integrity, transparency, and accountability in all our interactions, ensuring trust and reliability in our relationships with clients, partners, and stakeholders.\n",
      "\n",
      "#### Values\n",
      "- **Empower Industries:** Harness the potential of robotics to revolutionize industries, enhance productivity, and drive innovation in diverse sectors worldwide.\n",
      "- **Foster Sustainability:** Develop robotics solutions that contribute to sustainable practices, minimize environmental impact, and promote responsible use of technology for the betterment of society.\n",
      "\n",
      "#### Vision\n"
     ]
    }
   ],
   "source": [
    "headers = {\n",
    "  \"Content-Type\": \"application/json\",\n",
    "  \"Authorization\": f\"Bearer {openai.api_key}\"\n",
    "}\n",
    "\n",
    "payload = {\n",
    "  \"model\": model,\n",
    "  \"messages\": [\n",
    "    {\n",
    "        \"role\": \"system\",\n",
    "        \"content\": [\n",
    "            {\n",
    "              \"type\": \"text\",\n",
    "              \"text\": system_prompt\n",
    "            }\n",
    "        ]\n",
    "    },\n",
    "    {\n",
    "      \"role\": \"user\",\n",
    "      \"content\": [\n",
    "        {\n",
    "          \"type\": \"image_url\",\n",
    "          \"image_url\": {\n",
    "            \"url\": f\"data:image/jpeg;base64,{base64_image}\",\n",
    "            \"detail\": \"high\"\n",
    "          }\n",
    "        }\n",
    "      ]\n",
    "    }\n",
    "  ],\n",
    "  \"max_tokens\": 4096,\n",
    "  \"temperature\": 0,\n",
    "  \"seed\": 0\n",
    "}\n",
    "\n",
    "response = requests.post(\"https://api.openai.com/v1/chat/completions\", headers=headers, json=payload)\n",
    "response_content = response.json()['choices'][0]['message']['content']\n",
    "print(response_content)"
   ]
  },
  {
   "cell_type": "code",
   "execution_count": null,
   "id": "5c5d6d68-2a4f-4af0-8104-94d1d2a1415e",
   "metadata": {},
   "outputs": [],
   "source": []
  },
  {
   "cell_type": "code",
   "execution_count": null,
   "id": "c103155d-f324-4d7d-b4b5-3985cd3e18d4",
   "metadata": {},
   "outputs": [],
   "source": []
  }
 ],
 "metadata": {
  "kernelspec": {
   "display_name": "gen-ai",
   "language": "python",
   "name": "gen-ai"
  },
  "language_info": {
   "codemirror_mode": {
    "name": "ipython",
    "version": 3
   },
   "file_extension": ".py",
   "mimetype": "text/x-python",
   "name": "python",
   "nbconvert_exporter": "python",
   "pygments_lexer": "ipython3",
   "version": "3.9.7"
  }
 },
 "nbformat": 4,
 "nbformat_minor": 5
}
